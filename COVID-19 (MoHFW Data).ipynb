{
 "cells": [
  {
   "cell_type": "markdown",
   "metadata": {},
   "source": [
    "<center><h2>COVID -19 Data Analysis</h2></center>\n",
    "<strong>Source: </strong><a href='https://www.mohfw.gov.in/'>MoHFW, Govt. of India</a> <br>\n",
    "<strong>Author:</strong> Pranay Saha<br>\n",
    "<strong><a href='https://github.com/PranaySaha97'>GitHub</a></strong>&nbsp;\n",
    "<strong><a href='https://www.linkedin.com/in/pranay-saha-42820011a/'>LinkedIN</a></strong>&nbsp;"
   ]
  },
  {
   "cell_type": "code",
   "execution_count": 1,
   "metadata": {},
   "outputs": [],
   "source": [
    "import numpy as np\n",
    "import pandas as pd\n",
    "\n",
    "import matplotlib.pyplot as plt\n",
    "import seaborn as sns\n",
    "\n",
    "%matplotlib inline"
   ]
  },
  {
   "cell_type": "code",
   "execution_count": 2,
   "metadata": {},
   "outputs": [],
   "source": [
    "covid_state_data= pd.read_html(io='https://www.mohfw.gov.in/')\n",
    "covid_state_data=covid_state_data[0]\n",
    "covid_state_data=covid_state_data.drop('S. No.', axis=1)"
   ]
  },
  {
   "cell_type": "code",
   "execution_count": 3,
   "metadata": {},
   "outputs": [],
   "source": [
    "toDrop= covid_state_data.index[-5:]\n",
    "covid_state_data=covid_state_data.drop(toDrop, axis=0)"
   ]
  },
  {
   "cell_type": "code",
   "execution_count": 4,
   "metadata": {},
   "outputs": [
    {
     "name": "stdout",
     "output_type": "stream",
     "text": [
      "<class 'pandas.core.frame.DataFrame'>\n",
      "Int64Index: 36 entries, 0 to 35\n",
      "Data columns (total 4 columns):\n",
      " #   Column                     Non-Null Count  Dtype \n",
      "---  ------                     --------------  ----- \n",
      " 0   Name of State / UT         36 non-null     object\n",
      " 1   Total Confirmed cases*     36 non-null     object\n",
      " 2   Cured/Discharged/Migrated  35 non-null     object\n",
      " 3   Deaths**                   35 non-null     object\n",
      "dtypes: object(4)\n",
      "memory usage: 1.4+ KB\n"
     ]
    }
   ],
   "source": [
    "covid_state_data.info()"
   ]
  },
  {
   "cell_type": "code",
   "execution_count": 5,
   "metadata": {},
   "outputs": [
    {
     "data": {
      "text/html": [
       "<div>\n",
       "<style scoped>\n",
       "    .dataframe tbody tr th:only-of-type {\n",
       "        vertical-align: middle;\n",
       "    }\n",
       "\n",
       "    .dataframe tbody tr th {\n",
       "        vertical-align: top;\n",
       "    }\n",
       "\n",
       "    .dataframe thead th {\n",
       "        text-align: right;\n",
       "    }\n",
       "</style>\n",
       "<table border=\"1\" class=\"dataframe\">\n",
       "  <thead>\n",
       "    <tr style=\"text-align: right;\">\n",
       "      <th></th>\n",
       "      <th>Name of State / UT</th>\n",
       "      <th>Total Confirmed cases*</th>\n",
       "      <th>Cured/Discharged/Migrated</th>\n",
       "      <th>Deaths**</th>\n",
       "    </tr>\n",
       "  </thead>\n",
       "  <tbody>\n",
       "    <tr>\n",
       "      <th>29</th>\n",
       "      <td>Tamil Nadu</td>\n",
       "      <td>17082</td>\n",
       "      <td>8731</td>\n",
       "      <td>118</td>\n",
       "    </tr>\n",
       "  </tbody>\n",
       "</table>\n",
       "</div>"
      ],
      "text/plain": [
       "   Name of State / UT Total Confirmed cases* Cured/Discharged/Migrated  \\\n",
       "29         Tamil Nadu                  17082                      8731   \n",
       "\n",
       "   Deaths**  \n",
       "29      118  "
      ]
     },
     "execution_count": 5,
     "metadata": {},
     "output_type": "execute_result"
    }
   ],
   "source": [
    "covid_state_data[covid_state_data['Name of State / UT']=='Tamil Nadu']"
   ]
  },
  {
   "cell_type": "code",
   "execution_count": 6,
   "metadata": {},
   "outputs": [],
   "source": [
    "covid_state_data['Cured/Discharged/Migrated'].fillna(0, axis=0, inplace= True)"
   ]
  },
  {
   "cell_type": "code",
   "execution_count": 7,
   "metadata": {},
   "outputs": [],
   "source": [
    "covid_state_data['Deaths**'].fillna(0, inplace= True)"
   ]
  },
  {
   "cell_type": "code",
   "execution_count": 8,
   "metadata": {},
   "outputs": [],
   "source": [
    "covid_state_data.replace(to_replace='0#', value='0', inplace=True)"
   ]
  },
  {
   "cell_type": "code",
   "execution_count": 9,
   "metadata": {},
   "outputs": [],
   "source": [
    "covid_state_data['Total Confirmed cases*']= pd.to_numeric(covid_state_data['Total Confirmed cases*'])\n",
    "covid_state_data['Cured/Discharged/Migrated']= pd.to_numeric(covid_state_data['Cured/Discharged/Migrated'])\n",
    "covid_state_data['Deaths**']= pd.to_numeric(covid_state_data['Deaths**'])"
   ]
  },
  {
   "cell_type": "code",
   "execution_count": 46,
   "metadata": {},
   "outputs": [
    {
     "data": {
      "text/plain": [
       "Name of State / UT           West Bengal\n",
       "Total Confirmed cases*              3816\n",
       "Cured/Discharged/Migrated           1414\n",
       "Deaths**                             278\n",
       "Active Cases                        2402\n",
       "Mortality Rate                   7.28512\n",
       "Name: 34, dtype: object"
      ]
     },
     "execution_count": 46,
     "metadata": {},
     "output_type": "execute_result"
    }
   ],
   "source": [
    "covid_state_data.iloc[34]"
   ]
  },
  {
   "cell_type": "code",
   "execution_count": 11,
   "metadata": {},
   "outputs": [
    {
     "data": {
      "text/plain": [
       "Index(['Name of State / UT', 'Total Confirmed cases*',\n",
       "       'Cured/Discharged/Migrated', 'Deaths**'],\n",
       "      dtype='object')"
      ]
     },
     "execution_count": 11,
     "metadata": {},
     "output_type": "execute_result"
    }
   ],
   "source": [
    "covid_state_data.columns"
   ]
  },
  {
   "cell_type": "code",
   "execution_count": 12,
   "metadata": {},
   "outputs": [],
   "source": [
    "covid_state_data['Active Cases']= covid_state_data['Total Confirmed cases*']-covid_state_data['Cured/Discharged/Migrated']"
   ]
  },
  {
   "cell_type": "code",
   "execution_count": 13,
   "metadata": {},
   "outputs": [],
   "source": [
    "covid_state_data['Mortality Rate']= (covid_state_data['Deaths**']/covid_state_data['Total Confirmed cases*'])*100"
   ]
  },
  {
   "cell_type": "code",
   "execution_count": 14,
   "metadata": {},
   "outputs": [
    {
     "data": {
      "text/html": [
       "<div>\n",
       "<style scoped>\n",
       "    .dataframe tbody tr th:only-of-type {\n",
       "        vertical-align: middle;\n",
       "    }\n",
       "\n",
       "    .dataframe tbody tr th {\n",
       "        vertical-align: top;\n",
       "    }\n",
       "\n",
       "    .dataframe thead th {\n",
       "        text-align: right;\n",
       "    }\n",
       "</style>\n",
       "<table border=\"1\" class=\"dataframe\">\n",
       "  <thead>\n",
       "    <tr style=\"text-align: right;\">\n",
       "      <th></th>\n",
       "      <th>Name of State / UT</th>\n",
       "      <th>Total Confirmed cases*</th>\n",
       "      <th>Cured/Discharged/Migrated</th>\n",
       "      <th>Deaths**</th>\n",
       "      <th>Active Cases</th>\n",
       "      <th>Mortality Rate</th>\n",
       "    </tr>\n",
       "  </thead>\n",
       "  <tbody>\n",
       "    <tr>\n",
       "      <th>0</th>\n",
       "      <td>Andaman and Nicobar Islands</td>\n",
       "      <td>33</td>\n",
       "      <td>33</td>\n",
       "      <td>0</td>\n",
       "      <td>0</td>\n",
       "      <td>0.000000</td>\n",
       "    </tr>\n",
       "    <tr>\n",
       "      <th>1</th>\n",
       "      <td>Andhra Pradesh</td>\n",
       "      <td>3110</td>\n",
       "      <td>1896</td>\n",
       "      <td>56</td>\n",
       "      <td>1214</td>\n",
       "      <td>1.800643</td>\n",
       "    </tr>\n",
       "    <tr>\n",
       "      <th>2</th>\n",
       "      <td>Arunachal Pradesh</td>\n",
       "      <td>2</td>\n",
       "      <td>1</td>\n",
       "      <td>0</td>\n",
       "      <td>1</td>\n",
       "      <td>0.000000</td>\n",
       "    </tr>\n",
       "    <tr>\n",
       "      <th>3</th>\n",
       "      <td>Assam</td>\n",
       "      <td>526</td>\n",
       "      <td>62</td>\n",
       "      <td>4</td>\n",
       "      <td>464</td>\n",
       "      <td>0.760456</td>\n",
       "    </tr>\n",
       "    <tr>\n",
       "      <th>4</th>\n",
       "      <td>Bihar</td>\n",
       "      <td>2730</td>\n",
       "      <td>749</td>\n",
       "      <td>13</td>\n",
       "      <td>1981</td>\n",
       "      <td>0.476190</td>\n",
       "    </tr>\n",
       "  </tbody>\n",
       "</table>\n",
       "</div>"
      ],
      "text/plain": [
       "            Name of State / UT  Total Confirmed cases*  \\\n",
       "0  Andaman and Nicobar Islands                      33   \n",
       "1               Andhra Pradesh                    3110   \n",
       "2            Arunachal Pradesh                       2   \n",
       "3                        Assam                     526   \n",
       "4                        Bihar                    2730   \n",
       "\n",
       "   Cured/Discharged/Migrated  Deaths**  Active Cases  Mortality Rate  \n",
       "0                         33         0             0        0.000000  \n",
       "1                       1896        56          1214        1.800643  \n",
       "2                          1         0             1        0.000000  \n",
       "3                         62         4           464        0.760456  \n",
       "4                        749        13          1981        0.476190  "
      ]
     },
     "execution_count": 14,
     "metadata": {},
     "output_type": "execute_result"
    }
   ],
   "source": [
    "covid_state_data.head()"
   ]
  },
  {
   "cell_type": "markdown",
   "metadata": {},
   "source": [
    "### Total Cases in India"
   ]
  },
  {
   "cell_type": "code",
   "execution_count": 15,
   "metadata": {},
   "outputs": [
    {
     "data": {
      "text/plain": [
       "145380"
      ]
     },
     "execution_count": 15,
     "metadata": {},
     "output_type": "execute_result"
    }
   ],
   "source": [
    "tot_cases= covid_state_data['Total Confirmed cases*'].sum()\n",
    "tot_cases"
   ]
  },
  {
   "cell_type": "markdown",
   "metadata": {},
   "source": [
    "### Total Cured in India"
   ]
  },
  {
   "cell_type": "code",
   "execution_count": 16,
   "metadata": {},
   "outputs": [
    {
     "data": {
      "text/plain": [
       "60491"
      ]
     },
     "execution_count": 16,
     "metadata": {},
     "output_type": "execute_result"
    }
   ],
   "source": [
    "tot_cured= covid_state_data['Cured/Discharged/Migrated'].sum()\n",
    "tot_cured"
   ]
  },
  {
   "cell_type": "markdown",
   "metadata": {},
   "source": [
    "### Total Deaths In India"
   ]
  },
  {
   "cell_type": "code",
   "execution_count": 17,
   "metadata": {},
   "outputs": [
    {
     "data": {
      "text/plain": [
       "4167"
      ]
     },
     "execution_count": 17,
     "metadata": {},
     "output_type": "execute_result"
    }
   ],
   "source": [
    "tot_deaths= covid_state_data['Deaths**'].sum()\n",
    "tot_deaths"
   ]
  },
  {
   "cell_type": "markdown",
   "metadata": {},
   "source": [
    "### Total Number of States"
   ]
  },
  {
   "cell_type": "code",
   "execution_count": 18,
   "metadata": {},
   "outputs": [
    {
     "data": {
      "text/plain": [
       "35"
      ]
     },
     "execution_count": 18,
     "metadata": {},
     "output_type": "execute_result"
    }
   ],
   "source": [
    "no_of_states= covid_state_data['Name of State / UT'].nunique()-1\n",
    "no_of_states"
   ]
  },
  {
   "cell_type": "markdown",
   "metadata": {},
   "source": [
    "### Average Cases in India"
   ]
  },
  {
   "cell_type": "code",
   "execution_count": 19,
   "metadata": {},
   "outputs": [
    {
     "data": {
      "text/plain": [
       "4153.714285714285"
      ]
     },
     "execution_count": 19,
     "metadata": {},
     "output_type": "execute_result"
    }
   ],
   "source": [
    "avg_cases= tot_cases/no_of_states\n",
    "avg_cases"
   ]
  },
  {
   "cell_type": "markdown",
   "metadata": {},
   "source": [
    "### Average Cured in India"
   ]
  },
  {
   "cell_type": "code",
   "execution_count": 20,
   "metadata": {},
   "outputs": [
    {
     "data": {
      "text/plain": [
       "1728.3142857142857"
      ]
     },
     "execution_count": 20,
     "metadata": {},
     "output_type": "execute_result"
    }
   ],
   "source": [
    "avg_cured= tot_cured/no_of_states\n",
    "avg_cured"
   ]
  },
  {
   "cell_type": "markdown",
   "metadata": {},
   "source": [
    "### Average Deaths in India"
   ]
  },
  {
   "cell_type": "code",
   "execution_count": 21,
   "metadata": {},
   "outputs": [
    {
     "data": {
      "text/plain": [
       "119.05714285714286"
      ]
     },
     "execution_count": 21,
     "metadata": {},
     "output_type": "execute_result"
    }
   ],
   "source": [
    "avg_deaths= tot_deaths/no_of_states\n",
    "avg_deaths"
   ]
  },
  {
   "cell_type": "markdown",
   "metadata": {},
   "source": [
    "### Highest Confirmed Cases in India"
   ]
  },
  {
   "cell_type": "code",
   "execution_count": 22,
   "metadata": {},
   "outputs": [
    {
     "data": {
      "text/html": [
       "<div>\n",
       "<style scoped>\n",
       "    .dataframe tbody tr th:only-of-type {\n",
       "        vertical-align: middle;\n",
       "    }\n",
       "\n",
       "    .dataframe tbody tr th {\n",
       "        vertical-align: top;\n",
       "    }\n",
       "\n",
       "    .dataframe thead th {\n",
       "        text-align: right;\n",
       "    }\n",
       "</style>\n",
       "<table border=\"1\" class=\"dataframe\">\n",
       "  <thead>\n",
       "    <tr style=\"text-align: right;\">\n",
       "      <th></th>\n",
       "      <th>Name of State / UT</th>\n",
       "      <th>Total Confirmed cases*</th>\n",
       "      <th>Cured/Discharged/Migrated</th>\n",
       "      <th>Deaths**</th>\n",
       "      <th>Active Cases</th>\n",
       "      <th>Mortality Rate</th>\n",
       "    </tr>\n",
       "  </thead>\n",
       "  <tbody>\n",
       "    <tr>\n",
       "      <th>19</th>\n",
       "      <td>Maharashtra</td>\n",
       "      <td>52667</td>\n",
       "      <td>15786</td>\n",
       "      <td>1695</td>\n",
       "      <td>36881</td>\n",
       "      <td>3.218334</td>\n",
       "    </tr>\n",
       "  </tbody>\n",
       "</table>\n",
       "</div>"
      ],
      "text/plain": [
       "   Name of State / UT  Total Confirmed cases*  Cured/Discharged/Migrated  \\\n",
       "19        Maharashtra                   52667                      15786   \n",
       "\n",
       "    Deaths**  Active Cases  Mortality Rate  \n",
       "19      1695         36881        3.218334  "
      ]
     },
     "execution_count": 22,
     "metadata": {},
     "output_type": "execute_result"
    }
   ],
   "source": [
    "covid_state_data[covid_state_data['Total Confirmed cases*']==covid_state_data['Total Confirmed cases*'].max()]"
   ]
  },
  {
   "cell_type": "markdown",
   "metadata": {},
   "source": [
    "### Lowest Confirmed Cases in India"
   ]
  },
  {
   "cell_type": "code",
   "execution_count": 23,
   "metadata": {},
   "outputs": [
    {
     "data": {
      "text/html": [
       "<div>\n",
       "<style scoped>\n",
       "    .dataframe tbody tr th:only-of-type {\n",
       "        vertical-align: middle;\n",
       "    }\n",
       "\n",
       "    .dataframe tbody tr th {\n",
       "        vertical-align: top;\n",
       "    }\n",
       "\n",
       "    .dataframe thead th {\n",
       "        text-align: right;\n",
       "    }\n",
       "</style>\n",
       "<table border=\"1\" class=\"dataframe\">\n",
       "  <thead>\n",
       "    <tr style=\"text-align: right;\">\n",
       "      <th></th>\n",
       "      <th>Name of State / UT</th>\n",
       "      <th>Total Confirmed cases*</th>\n",
       "      <th>Cured/Discharged/Migrated</th>\n",
       "      <th>Deaths**</th>\n",
       "      <th>Active Cases</th>\n",
       "      <th>Mortality Rate</th>\n",
       "    </tr>\n",
       "  </thead>\n",
       "  <tbody>\n",
       "    <tr>\n",
       "      <th>22</th>\n",
       "      <td>Mizoram</td>\n",
       "      <td>1</td>\n",
       "      <td>1</td>\n",
       "      <td>0</td>\n",
       "      <td>0</td>\n",
       "      <td>0.0</td>\n",
       "    </tr>\n",
       "    <tr>\n",
       "      <th>28</th>\n",
       "      <td>Sikkim</td>\n",
       "      <td>1</td>\n",
       "      <td>0</td>\n",
       "      <td>0</td>\n",
       "      <td>1</td>\n",
       "      <td>0.0</td>\n",
       "    </tr>\n",
       "  </tbody>\n",
       "</table>\n",
       "</div>"
      ],
      "text/plain": [
       "   Name of State / UT  Total Confirmed cases*  Cured/Discharged/Migrated  \\\n",
       "22            Mizoram                       1                          1   \n",
       "28             Sikkim                       1                          0   \n",
       "\n",
       "    Deaths**  Active Cases  Mortality Rate  \n",
       "22         0             0             0.0  \n",
       "28         0             1             0.0  "
      ]
     },
     "execution_count": 23,
     "metadata": {},
     "output_type": "execute_result"
    }
   ],
   "source": [
    "covid_state_data[covid_state_data['Total Confirmed cases*']==covid_state_data['Total Confirmed cases*'].min()]"
   ]
  },
  {
   "cell_type": "markdown",
   "metadata": {},
   "source": [
    "### Top 5 States Having Most Cases in India"
   ]
  },
  {
   "cell_type": "code",
   "execution_count": 24,
   "metadata": {},
   "outputs": [
    {
     "data": {
      "text/html": [
       "<div>\n",
       "<style scoped>\n",
       "    .dataframe tbody tr th:only-of-type {\n",
       "        vertical-align: middle;\n",
       "    }\n",
       "\n",
       "    .dataframe tbody tr th {\n",
       "        vertical-align: top;\n",
       "    }\n",
       "\n",
       "    .dataframe thead th {\n",
       "        text-align: right;\n",
       "    }\n",
       "</style>\n",
       "<table border=\"1\" class=\"dataframe\">\n",
       "  <thead>\n",
       "    <tr style=\"text-align: right;\">\n",
       "      <th></th>\n",
       "      <th>Name of State / UT</th>\n",
       "      <th>Total Confirmed cases*</th>\n",
       "      <th>Cured/Discharged/Migrated</th>\n",
       "      <th>Deaths**</th>\n",
       "      <th>Active Cases</th>\n",
       "      <th>Mortality Rate</th>\n",
       "    </tr>\n",
       "  </thead>\n",
       "  <tbody>\n",
       "    <tr>\n",
       "      <th>19</th>\n",
       "      <td>Maharashtra</td>\n",
       "      <td>52667</td>\n",
       "      <td>15786</td>\n",
       "      <td>1695</td>\n",
       "      <td>36881</td>\n",
       "      <td>3.218334</td>\n",
       "    </tr>\n",
       "    <tr>\n",
       "      <th>29</th>\n",
       "      <td>Tamil Nadu</td>\n",
       "      <td>17082</td>\n",
       "      <td>8731</td>\n",
       "      <td>118</td>\n",
       "      <td>8351</td>\n",
       "      <td>0.690786</td>\n",
       "    </tr>\n",
       "    <tr>\n",
       "      <th>10</th>\n",
       "      <td>Gujarat</td>\n",
       "      <td>14460</td>\n",
       "      <td>6636</td>\n",
       "      <td>888</td>\n",
       "      <td>7824</td>\n",
       "      <td>6.141079</td>\n",
       "    </tr>\n",
       "    <tr>\n",
       "      <th>8</th>\n",
       "      <td>Delhi</td>\n",
       "      <td>14053</td>\n",
       "      <td>6771</td>\n",
       "      <td>276</td>\n",
       "      <td>7282</td>\n",
       "      <td>1.963993</td>\n",
       "    </tr>\n",
       "    <tr>\n",
       "      <th>27</th>\n",
       "      <td>Rajasthan</td>\n",
       "      <td>7300</td>\n",
       "      <td>3951</td>\n",
       "      <td>167</td>\n",
       "      <td>3349</td>\n",
       "      <td>2.287671</td>\n",
       "    </tr>\n",
       "  </tbody>\n",
       "</table>\n",
       "</div>"
      ],
      "text/plain": [
       "   Name of State / UT  Total Confirmed cases*  Cured/Discharged/Migrated  \\\n",
       "19        Maharashtra                   52667                      15786   \n",
       "29         Tamil Nadu                   17082                       8731   \n",
       "10            Gujarat                   14460                       6636   \n",
       "8               Delhi                   14053                       6771   \n",
       "27          Rajasthan                    7300                       3951   \n",
       "\n",
       "    Deaths**  Active Cases  Mortality Rate  \n",
       "19      1695         36881        3.218334  \n",
       "29       118          8351        0.690786  \n",
       "10       888          7824        6.141079  \n",
       "8        276          7282        1.963993  \n",
       "27       167          3349        2.287671  "
      ]
     },
     "execution_count": 24,
     "metadata": {},
     "output_type": "execute_result"
    }
   ],
   "source": [
    "# Top 5\n",
    "sorted_total_cnf= covid_state_data.sort_values(by=['Total Confirmed cases*'], ascending=False)\n",
    "sorted_total_cnf.head()"
   ]
  },
  {
   "cell_type": "code",
   "execution_count": null,
   "metadata": {},
   "outputs": [],
   "source": []
  },
  {
   "cell_type": "code",
   "execution_count": 25,
   "metadata": {},
   "outputs": [
    {
     "data": {
      "image/png": "[encoded data removed]",
      "text/plain": [
       "<Figure size 720x864 with 1 Axes>"
      ]
     },
     "metadata": {
      "needs_background": "light"
     },
     "output_type": "display_data"
    }
   ],
   "source": [
    "plt.figure(figsize=(10, 12))\n",
    "sns.set_style('whitegrid')\n",
    "sns.barplot(x='Total Confirmed cases*', y='Name of State / UT', data= sorted_total_cnf, palette='coolwarm')\n",
    "plt.title('Total Confirmed Cases')\n",
    "plt.tight_layout()"
   ]
  },
  {
   "cell_type": "markdown",
   "metadata": {},
   "source": [
    "### Highest Cured Cases in India"
   ]
  },
  {
   "cell_type": "code",
   "execution_count": 26,
   "metadata": {
    "scrolled": false
   },
   "outputs": [
    {
     "data": {
      "text/html": [
       "<div>\n",
       "<style scoped>\n",
       "    .dataframe tbody tr th:only-of-type {\n",
       "        vertical-align: middle;\n",
       "    }\n",
       "\n",
       "    .dataframe tbody tr th {\n",
       "        vertical-align: top;\n",
       "    }\n",
       "\n",
       "    .dataframe thead th {\n",
       "        text-align: right;\n",
       "    }\n",
       "</style>\n",
       "<table border=\"1\" class=\"dataframe\">\n",
       "  <thead>\n",
       "    <tr style=\"text-align: right;\">\n",
       "      <th></th>\n",
       "      <th>Name of State / UT</th>\n",
       "      <th>Total Confirmed cases*</th>\n",
       "      <th>Cured/Discharged/Migrated</th>\n",
       "      <th>Deaths**</th>\n",
       "      <th>Active Cases</th>\n",
       "      <th>Mortality Rate</th>\n",
       "    </tr>\n",
       "  </thead>\n",
       "  <tbody>\n",
       "    <tr>\n",
       "      <th>19</th>\n",
       "      <td>Maharashtra</td>\n",
       "      <td>52667</td>\n",
       "      <td>15786</td>\n",
       "      <td>1695</td>\n",
       "      <td>36881</td>\n",
       "      <td>3.218334</td>\n",
       "    </tr>\n",
       "  </tbody>\n",
       "</table>\n",
       "</div>"
      ],
      "text/plain": [
       "   Name of State / UT  Total Confirmed cases*  Cured/Discharged/Migrated  \\\n",
       "19        Maharashtra                   52667                      15786   \n",
       "\n",
       "    Deaths**  Active Cases  Mortality Rate  \n",
       "19      1695         36881        3.218334  "
      ]
     },
     "execution_count": 26,
     "metadata": {},
     "output_type": "execute_result"
    }
   ],
   "source": [
    "covid_state_data[covid_state_data['Cured/Discharged/Migrated']==covid_state_data['Cured/Discharged/Migrated'].max()]"
   ]
  },
  {
   "cell_type": "markdown",
   "metadata": {},
   "source": [
    "### Lowest Cured Cases in India"
   ]
  },
  {
   "cell_type": "code",
   "execution_count": 27,
   "metadata": {},
   "outputs": [
    {
     "data": {
      "text/html": [
       "<div>\n",
       "<style scoped>\n",
       "    .dataframe tbody tr th:only-of-type {\n",
       "        vertical-align: middle;\n",
       "    }\n",
       "\n",
       "    .dataframe tbody tr th {\n",
       "        vertical-align: top;\n",
       "    }\n",
       "\n",
       "    .dataframe thead th {\n",
       "        text-align: right;\n",
       "    }\n",
       "</style>\n",
       "<table border=\"1\" class=\"dataframe\">\n",
       "  <thead>\n",
       "    <tr style=\"text-align: right;\">\n",
       "      <th></th>\n",
       "      <th>Name of State / UT</th>\n",
       "      <th>Total Confirmed cases*</th>\n",
       "      <th>Cured/Discharged/Migrated</th>\n",
       "      <th>Deaths**</th>\n",
       "      <th>Active Cases</th>\n",
       "      <th>Mortality Rate</th>\n",
       "    </tr>\n",
       "  </thead>\n",
       "  <tbody>\n",
       "    <tr>\n",
       "      <th>7</th>\n",
       "      <td>Dadar Nagar Haveli</td>\n",
       "      <td>2</td>\n",
       "      <td>0</td>\n",
       "      <td>0</td>\n",
       "      <td>2</td>\n",
       "      <td>0.0</td>\n",
       "    </tr>\n",
       "    <tr>\n",
       "      <th>23</th>\n",
       "      <td>Nagaland</td>\n",
       "      <td>3</td>\n",
       "      <td>0</td>\n",
       "      <td>0</td>\n",
       "      <td>3</td>\n",
       "      <td>0.0</td>\n",
       "    </tr>\n",
       "    <tr>\n",
       "      <th>28</th>\n",
       "      <td>Sikkim</td>\n",
       "      <td>1</td>\n",
       "      <td>0</td>\n",
       "      <td>0</td>\n",
       "      <td>1</td>\n",
       "      <td>0.0</td>\n",
       "    </tr>\n",
       "    <tr>\n",
       "      <th>35</th>\n",
       "      <td>Cases being reassigned to states</td>\n",
       "      <td>2970</td>\n",
       "      <td>0</td>\n",
       "      <td>0</td>\n",
       "      <td>2970</td>\n",
       "      <td>0.0</td>\n",
       "    </tr>\n",
       "  </tbody>\n",
       "</table>\n",
       "</div>"
      ],
      "text/plain": [
       "                  Name of State / UT  Total Confirmed cases*  \\\n",
       "7                 Dadar Nagar Haveli                       2   \n",
       "23                          Nagaland                       3   \n",
       "28                            Sikkim                       1   \n",
       "35  Cases being reassigned to states                    2970   \n",
       "\n",
       "    Cured/Discharged/Migrated  Deaths**  Active Cases  Mortality Rate  \n",
       "7                           0         0             2             0.0  \n",
       "23                          0         0             3             0.0  \n",
       "28                          0         0             1             0.0  \n",
       "35                          0         0          2970             0.0  "
      ]
     },
     "execution_count": 27,
     "metadata": {},
     "output_type": "execute_result"
    }
   ],
   "source": [
    "covid_state_data[covid_state_data['Cured/Discharged/Migrated']==covid_state_data['Cured/Discharged/Migrated'].min()]"
   ]
  },
  {
   "cell_type": "markdown",
   "metadata": {},
   "source": [
    "### Top 5 States with Cured Cases in India"
   ]
  },
  {
   "cell_type": "code",
   "execution_count": 28,
   "metadata": {},
   "outputs": [
    {
     "data": {
      "text/html": [
       "<div>\n",
       "<style scoped>\n",
       "    .dataframe tbody tr th:only-of-type {\n",
       "        vertical-align: middle;\n",
       "    }\n",
       "\n",
       "    .dataframe tbody tr th {\n",
       "        vertical-align: top;\n",
       "    }\n",
       "\n",
       "    .dataframe thead th {\n",
       "        text-align: right;\n",
       "    }\n",
       "</style>\n",
       "<table border=\"1\" class=\"dataframe\">\n",
       "  <thead>\n",
       "    <tr style=\"text-align: right;\">\n",
       "      <th></th>\n",
       "      <th>Name of State / UT</th>\n",
       "      <th>Total Confirmed cases*</th>\n",
       "      <th>Cured/Discharged/Migrated</th>\n",
       "      <th>Deaths**</th>\n",
       "      <th>Active Cases</th>\n",
       "      <th>Mortality Rate</th>\n",
       "    </tr>\n",
       "  </thead>\n",
       "  <tbody>\n",
       "    <tr>\n",
       "      <th>19</th>\n",
       "      <td>Maharashtra</td>\n",
       "      <td>52667</td>\n",
       "      <td>15786</td>\n",
       "      <td>1695</td>\n",
       "      <td>36881</td>\n",
       "      <td>3.218334</td>\n",
       "    </tr>\n",
       "    <tr>\n",
       "      <th>29</th>\n",
       "      <td>Tamil Nadu</td>\n",
       "      <td>17082</td>\n",
       "      <td>8731</td>\n",
       "      <td>118</td>\n",
       "      <td>8351</td>\n",
       "      <td>0.690786</td>\n",
       "    </tr>\n",
       "    <tr>\n",
       "      <th>8</th>\n",
       "      <td>Delhi</td>\n",
       "      <td>14053</td>\n",
       "      <td>6771</td>\n",
       "      <td>276</td>\n",
       "      <td>7282</td>\n",
       "      <td>1.963993</td>\n",
       "    </tr>\n",
       "    <tr>\n",
       "      <th>10</th>\n",
       "      <td>Gujarat</td>\n",
       "      <td>14460</td>\n",
       "      <td>6636</td>\n",
       "      <td>888</td>\n",
       "      <td>7824</td>\n",
       "      <td>6.141079</td>\n",
       "    </tr>\n",
       "    <tr>\n",
       "      <th>27</th>\n",
       "      <td>Rajasthan</td>\n",
       "      <td>7300</td>\n",
       "      <td>3951</td>\n",
       "      <td>167</td>\n",
       "      <td>3349</td>\n",
       "      <td>2.287671</td>\n",
       "    </tr>\n",
       "  </tbody>\n",
       "</table>\n",
       "</div>"
      ],
      "text/plain": [
       "   Name of State / UT  Total Confirmed cases*  Cured/Discharged/Migrated  \\\n",
       "19        Maharashtra                   52667                      15786   \n",
       "29         Tamil Nadu                   17082                       8731   \n",
       "8               Delhi                   14053                       6771   \n",
       "10            Gujarat                   14460                       6636   \n",
       "27          Rajasthan                    7300                       3951   \n",
       "\n",
       "    Deaths**  Active Cases  Mortality Rate  \n",
       "19      1695         36881        3.218334  \n",
       "29       118          8351        0.690786  \n",
       "8        276          7282        1.963993  \n",
       "10       888          7824        6.141079  \n",
       "27       167          3349        2.287671  "
      ]
     },
     "execution_count": 28,
     "metadata": {},
     "output_type": "execute_result"
    }
   ],
   "source": [
    "# Top 5\n",
    "sorted_total_cured= covid_state_data.sort_values(by=['Cured/Discharged/Migrated'], ascending=False)\n",
    "sorted_total_cured.head()"
   ]
  },
  {
   "cell_type": "code",
   "execution_count": 29,
   "metadata": {},
   "outputs": [
    {
     "data": {
      "image/png": "[encoded data removed]",
      "text/plain": [
       "<Figure size 720x864 with 1 Axes>"
      ]
     },
     "metadata": {},
     "output_type": "display_data"
    }
   ],
   "source": [
    "plt.figure(figsize=(10,12))\n",
    "sns.set_style('whitegrid')\n",
    "sns.barplot(x='Cured/Discharged/Migrated', y='Name of State / UT', data= sorted_total_cured, palette='coolwarm')\n",
    "plt.title('Cured/Migrated')\n",
    "plt.tight_layout()"
   ]
  },
  {
   "cell_type": "markdown",
   "metadata": {},
   "source": [
    "### Highest Death Cases in India"
   ]
  },
  {
   "cell_type": "code",
   "execution_count": 30,
   "metadata": {
    "scrolled": false
   },
   "outputs": [
    {
     "data": {
      "text/html": [
       "<div>\n",
       "<style scoped>\n",
       "    .dataframe tbody tr th:only-of-type {\n",
       "        vertical-align: middle;\n",
       "    }\n",
       "\n",
       "    .dataframe tbody tr th {\n",
       "        vertical-align: top;\n",
       "    }\n",
       "\n",
       "    .dataframe thead th {\n",
       "        text-align: right;\n",
       "    }\n",
       "</style>\n",
       "<table border=\"1\" class=\"dataframe\">\n",
       "  <thead>\n",
       "    <tr style=\"text-align: right;\">\n",
       "      <th></th>\n",
       "      <th>Name of State / UT</th>\n",
       "      <th>Total Confirmed cases*</th>\n",
       "      <th>Cured/Discharged/Migrated</th>\n",
       "      <th>Deaths**</th>\n",
       "      <th>Active Cases</th>\n",
       "      <th>Mortality Rate</th>\n",
       "    </tr>\n",
       "  </thead>\n",
       "  <tbody>\n",
       "    <tr>\n",
       "      <th>19</th>\n",
       "      <td>Maharashtra</td>\n",
       "      <td>52667</td>\n",
       "      <td>15786</td>\n",
       "      <td>1695</td>\n",
       "      <td>36881</td>\n",
       "      <td>3.218334</td>\n",
       "    </tr>\n",
       "  </tbody>\n",
       "</table>\n",
       "</div>"
      ],
      "text/plain": [
       "   Name of State / UT  Total Confirmed cases*  Cured/Discharged/Migrated  \\\n",
       "19        Maharashtra                   52667                      15786   \n",
       "\n",
       "    Deaths**  Active Cases  Mortality Rate  \n",
       "19      1695         36881        3.218334  "
      ]
     },
     "execution_count": 30,
     "metadata": {},
     "output_type": "execute_result"
    }
   ],
   "source": [
    "covid_state_data[covid_state_data['Deaths**']==covid_state_data['Deaths**'].max()]"
   ]
  },
  {
   "cell_type": "markdown",
   "metadata": {},
   "source": [
    "### Lowest Death Cases in India"
   ]
  },
  {
   "cell_type": "code",
   "execution_count": 31,
   "metadata": {},
   "outputs": [
    {
     "data": {
      "text/html": [
       "<div>\n",
       "<style scoped>\n",
       "    .dataframe tbody tr th:only-of-type {\n",
       "        vertical-align: middle;\n",
       "    }\n",
       "\n",
       "    .dataframe tbody tr th {\n",
       "        vertical-align: top;\n",
       "    }\n",
       "\n",
       "    .dataframe thead th {\n",
       "        text-align: right;\n",
       "    }\n",
       "</style>\n",
       "<table border=\"1\" class=\"dataframe\">\n",
       "  <thead>\n",
       "    <tr style=\"text-align: right;\">\n",
       "      <th></th>\n",
       "      <th>Name of State / UT</th>\n",
       "      <th>Total Confirmed cases*</th>\n",
       "      <th>Cured/Discharged/Migrated</th>\n",
       "      <th>Deaths**</th>\n",
       "      <th>Active Cases</th>\n",
       "      <th>Mortality Rate</th>\n",
       "    </tr>\n",
       "  </thead>\n",
       "  <tbody>\n",
       "    <tr>\n",
       "      <th>0</th>\n",
       "      <td>Andaman and Nicobar Islands</td>\n",
       "      <td>33</td>\n",
       "      <td>33</td>\n",
       "      <td>0</td>\n",
       "      <td>0</td>\n",
       "      <td>0.0</td>\n",
       "    </tr>\n",
       "    <tr>\n",
       "      <th>2</th>\n",
       "      <td>Arunachal Pradesh</td>\n",
       "      <td>2</td>\n",
       "      <td>1</td>\n",
       "      <td>0</td>\n",
       "      <td>1</td>\n",
       "      <td>0.0</td>\n",
       "    </tr>\n",
       "    <tr>\n",
       "      <th>6</th>\n",
       "      <td>Chhattisgarh</td>\n",
       "      <td>291</td>\n",
       "      <td>72</td>\n",
       "      <td>0</td>\n",
       "      <td>219</td>\n",
       "      <td>0.0</td>\n",
       "    </tr>\n",
       "    <tr>\n",
       "      <th>7</th>\n",
       "      <td>Dadar Nagar Haveli</td>\n",
       "      <td>2</td>\n",
       "      <td>0</td>\n",
       "      <td>0</td>\n",
       "      <td>2</td>\n",
       "      <td>0.0</td>\n",
       "    </tr>\n",
       "    <tr>\n",
       "      <th>9</th>\n",
       "      <td>Goa</td>\n",
       "      <td>67</td>\n",
       "      <td>19</td>\n",
       "      <td>0</td>\n",
       "      <td>48</td>\n",
       "      <td>0.0</td>\n",
       "    </tr>\n",
       "    <tr>\n",
       "      <th>17</th>\n",
       "      <td>Ladakh</td>\n",
       "      <td>52</td>\n",
       "      <td>43</td>\n",
       "      <td>0</td>\n",
       "      <td>9</td>\n",
       "      <td>0.0</td>\n",
       "    </tr>\n",
       "    <tr>\n",
       "      <th>20</th>\n",
       "      <td>Manipur</td>\n",
       "      <td>39</td>\n",
       "      <td>4</td>\n",
       "      <td>0</td>\n",
       "      <td>35</td>\n",
       "      <td>0.0</td>\n",
       "    </tr>\n",
       "    <tr>\n",
       "      <th>22</th>\n",
       "      <td>Mizoram</td>\n",
       "      <td>1</td>\n",
       "      <td>1</td>\n",
       "      <td>0</td>\n",
       "      <td>0</td>\n",
       "      <td>0.0</td>\n",
       "    </tr>\n",
       "    <tr>\n",
       "      <th>23</th>\n",
       "      <td>Nagaland</td>\n",
       "      <td>3</td>\n",
       "      <td>0</td>\n",
       "      <td>0</td>\n",
       "      <td>3</td>\n",
       "      <td>0.0</td>\n",
       "    </tr>\n",
       "    <tr>\n",
       "      <th>25</th>\n",
       "      <td>Puducherry</td>\n",
       "      <td>41</td>\n",
       "      <td>12</td>\n",
       "      <td>0</td>\n",
       "      <td>29</td>\n",
       "      <td>0.0</td>\n",
       "    </tr>\n",
       "    <tr>\n",
       "      <th>28</th>\n",
       "      <td>Sikkim</td>\n",
       "      <td>1</td>\n",
       "      <td>0</td>\n",
       "      <td>0</td>\n",
       "      <td>1</td>\n",
       "      <td>0.0</td>\n",
       "    </tr>\n",
       "    <tr>\n",
       "      <th>31</th>\n",
       "      <td>Tripura</td>\n",
       "      <td>194</td>\n",
       "      <td>165</td>\n",
       "      <td>0</td>\n",
       "      <td>29</td>\n",
       "      <td>0.0</td>\n",
       "    </tr>\n",
       "    <tr>\n",
       "      <th>35</th>\n",
       "      <td>Cases being reassigned to states</td>\n",
       "      <td>2970</td>\n",
       "      <td>0</td>\n",
       "      <td>0</td>\n",
       "      <td>2970</td>\n",
       "      <td>0.0</td>\n",
       "    </tr>\n",
       "  </tbody>\n",
       "</table>\n",
       "</div>"
      ],
      "text/plain": [
       "                  Name of State / UT  Total Confirmed cases*  \\\n",
       "0        Andaman and Nicobar Islands                      33   \n",
       "2                  Arunachal Pradesh                       2   \n",
       "6                       Chhattisgarh                     291   \n",
       "7                 Dadar Nagar Haveli                       2   \n",
       "9                                Goa                      67   \n",
       "17                            Ladakh                      52   \n",
       "20                           Manipur                      39   \n",
       "22                           Mizoram                       1   \n",
       "23                          Nagaland                       3   \n",
       "25                        Puducherry                      41   \n",
       "28                            Sikkim                       1   \n",
       "31                           Tripura                     194   \n",
       "35  Cases being reassigned to states                    2970   \n",
       "\n",
       "    Cured/Discharged/Migrated  Deaths**  Active Cases  Mortality Rate  \n",
       "0                          33         0             0             0.0  \n",
       "2                           1         0             1             0.0  \n",
       "6                          72         0           219             0.0  \n",
       "7                           0         0             2             0.0  \n",
       "9                          19         0            48             0.0  \n",
       "17                         43         0             9             0.0  \n",
       "20                          4         0            35             0.0  \n",
       "22                          1         0             0             0.0  \n",
       "23                          0         0             3             0.0  \n",
       "25                         12         0            29             0.0  \n",
       "28                          0         0             1             0.0  \n",
       "31                        165         0            29             0.0  \n",
       "35                          0         0          2970             0.0  "
      ]
     },
     "execution_count": 31,
     "metadata": {},
     "output_type": "execute_result"
    }
   ],
   "source": [
    "covid_state_data[covid_state_data['Deaths**']==covid_state_data['Deaths**'].min()]"
   ]
  },
  {
   "cell_type": "markdown",
   "metadata": {},
   "source": [
    "### Top 5 States having most Death Cases in India"
   ]
  },
  {
   "cell_type": "code",
   "execution_count": 32,
   "metadata": {},
   "outputs": [
    {
     "data": {
      "text/html": [
       "<div>\n",
       "<style scoped>\n",
       "    .dataframe tbody tr th:only-of-type {\n",
       "        vertical-align: middle;\n",
       "    }\n",
       "\n",
       "    .dataframe tbody tr th {\n",
       "        vertical-align: top;\n",
       "    }\n",
       "\n",
       "    .dataframe thead th {\n",
       "        text-align: right;\n",
       "    }\n",
       "</style>\n",
       "<table border=\"1\" class=\"dataframe\">\n",
       "  <thead>\n",
       "    <tr style=\"text-align: right;\">\n",
       "      <th></th>\n",
       "      <th>Name of State / UT</th>\n",
       "      <th>Total Confirmed cases*</th>\n",
       "      <th>Cured/Discharged/Migrated</th>\n",
       "      <th>Deaths**</th>\n",
       "      <th>Active Cases</th>\n",
       "      <th>Mortality Rate</th>\n",
       "    </tr>\n",
       "  </thead>\n",
       "  <tbody>\n",
       "    <tr>\n",
       "      <th>19</th>\n",
       "      <td>Maharashtra</td>\n",
       "      <td>52667</td>\n",
       "      <td>15786</td>\n",
       "      <td>1695</td>\n",
       "      <td>36881</td>\n",
       "      <td>3.218334</td>\n",
       "    </tr>\n",
       "    <tr>\n",
       "      <th>10</th>\n",
       "      <td>Gujarat</td>\n",
       "      <td>14460</td>\n",
       "      <td>6636</td>\n",
       "      <td>888</td>\n",
       "      <td>7824</td>\n",
       "      <td>6.141079</td>\n",
       "    </tr>\n",
       "    <tr>\n",
       "      <th>18</th>\n",
       "      <td>Madhya Pradesh</td>\n",
       "      <td>6859</td>\n",
       "      <td>3571</td>\n",
       "      <td>300</td>\n",
       "      <td>3288</td>\n",
       "      <td>4.373815</td>\n",
       "    </tr>\n",
       "    <tr>\n",
       "      <th>34</th>\n",
       "      <td>West Bengal</td>\n",
       "      <td>3816</td>\n",
       "      <td>1414</td>\n",
       "      <td>278</td>\n",
       "      <td>2402</td>\n",
       "      <td>7.285115</td>\n",
       "    </tr>\n",
       "    <tr>\n",
       "      <th>8</th>\n",
       "      <td>Delhi</td>\n",
       "      <td>14053</td>\n",
       "      <td>6771</td>\n",
       "      <td>276</td>\n",
       "      <td>7282</td>\n",
       "      <td>1.963993</td>\n",
       "    </tr>\n",
       "  </tbody>\n",
       "</table>\n",
       "</div>"
      ],
      "text/plain": [
       "   Name of State / UT  Total Confirmed cases*  Cured/Discharged/Migrated  \\\n",
       "19        Maharashtra                   52667                      15786   \n",
       "10            Gujarat                   14460                       6636   \n",
       "18     Madhya Pradesh                    6859                       3571   \n",
       "34        West Bengal                    3816                       1414   \n",
       "8               Delhi                   14053                       6771   \n",
       "\n",
       "    Deaths**  Active Cases  Mortality Rate  \n",
       "19      1695         36881        3.218334  \n",
       "10       888          7824        6.141079  \n",
       "18       300          3288        4.373815  \n",
       "34       278          2402        7.285115  \n",
       "8        276          7282        1.963993  "
      ]
     },
     "execution_count": 32,
     "metadata": {},
     "output_type": "execute_result"
    }
   ],
   "source": [
    "# Top 5\n",
    "sorted_total_deaths= covid_state_data.sort_values(by=['Deaths**'], ascending=False)\n",
    "sorted_total_deaths.head()"
   ]
  },
  {
   "cell_type": "code",
   "execution_count": 33,
   "metadata": {},
   "outputs": [
    {
     "data": {
      "image/png": "[encoded data removed]",
      "text/plain": [
       "<Figure size 720x864 with 1 Axes>"
      ]
     },
     "metadata": {},
     "output_type": "display_data"
    }
   ],
   "source": [
    "plt.figure(figsize=(10,12))\n",
    "sns.set_style('whitegrid')\n",
    "sns.barplot(x='Deaths**', y='Name of State / UT', data= sorted_total_deaths, palette='coolwarm')\n",
    "plt.title('Deaths')\n",
    "plt.tight_layout()"
   ]
  },
  {
   "cell_type": "markdown",
   "metadata": {},
   "source": [
    "### Highest Active Cases in India"
   ]
  },
  {
   "cell_type": "code",
   "execution_count": 34,
   "metadata": {
    "scrolled": false
   },
   "outputs": [
    {
     "data": {
      "text/html": [
       "<div>\n",
       "<style scoped>\n",
       "    .dataframe tbody tr th:only-of-type {\n",
       "        vertical-align: middle;\n",
       "    }\n",
       "\n",
       "    .dataframe tbody tr th {\n",
       "        vertical-align: top;\n",
       "    }\n",
       "\n",
       "    .dataframe thead th {\n",
       "        text-align: right;\n",
       "    }\n",
       "</style>\n",
       "<table border=\"1\" class=\"dataframe\">\n",
       "  <thead>\n",
       "    <tr style=\"text-align: right;\">\n",
       "      <th></th>\n",
       "      <th>Name of State / UT</th>\n",
       "      <th>Total Confirmed cases*</th>\n",
       "      <th>Cured/Discharged/Migrated</th>\n",
       "      <th>Deaths**</th>\n",
       "      <th>Active Cases</th>\n",
       "      <th>Mortality Rate</th>\n",
       "    </tr>\n",
       "  </thead>\n",
       "  <tbody>\n",
       "    <tr>\n",
       "      <th>19</th>\n",
       "      <td>Maharashtra</td>\n",
       "      <td>52667</td>\n",
       "      <td>15786</td>\n",
       "      <td>1695</td>\n",
       "      <td>36881</td>\n",
       "      <td>3.218334</td>\n",
       "    </tr>\n",
       "  </tbody>\n",
       "</table>\n",
       "</div>"
      ],
      "text/plain": [
       "   Name of State / UT  Total Confirmed cases*  Cured/Discharged/Migrated  \\\n",
       "19        Maharashtra                   52667                      15786   \n",
       "\n",
       "    Deaths**  Active Cases  Mortality Rate  \n",
       "19      1695         36881        3.218334  "
      ]
     },
     "execution_count": 34,
     "metadata": {},
     "output_type": "execute_result"
    }
   ],
   "source": [
    "covid_state_data[covid_state_data['Active Cases']==covid_state_data['Active Cases'].max()]"
   ]
  },
  {
   "cell_type": "markdown",
   "metadata": {},
   "source": [
    "### Lowest Active Cases in India"
   ]
  },
  {
   "cell_type": "code",
   "execution_count": 35,
   "metadata": {},
   "outputs": [
    {
     "data": {
      "text/html": [
       "<div>\n",
       "<style scoped>\n",
       "    .dataframe tbody tr th:only-of-type {\n",
       "        vertical-align: middle;\n",
       "    }\n",
       "\n",
       "    .dataframe tbody tr th {\n",
       "        vertical-align: top;\n",
       "    }\n",
       "\n",
       "    .dataframe thead th {\n",
       "        text-align: right;\n",
       "    }\n",
       "</style>\n",
       "<table border=\"1\" class=\"dataframe\">\n",
       "  <thead>\n",
       "    <tr style=\"text-align: right;\">\n",
       "      <th></th>\n",
       "      <th>Name of State / UT</th>\n",
       "      <th>Total Confirmed cases*</th>\n",
       "      <th>Cured/Discharged/Migrated</th>\n",
       "      <th>Deaths**</th>\n",
       "      <th>Active Cases</th>\n",
       "      <th>Mortality Rate</th>\n",
       "    </tr>\n",
       "  </thead>\n",
       "  <tbody>\n",
       "    <tr>\n",
       "      <th>0</th>\n",
       "      <td>Andaman and Nicobar Islands</td>\n",
       "      <td>33</td>\n",
       "      <td>33</td>\n",
       "      <td>0</td>\n",
       "      <td>0</td>\n",
       "      <td>0.0</td>\n",
       "    </tr>\n",
       "    <tr>\n",
       "      <th>22</th>\n",
       "      <td>Mizoram</td>\n",
       "      <td>1</td>\n",
       "      <td>1</td>\n",
       "      <td>0</td>\n",
       "      <td>0</td>\n",
       "      <td>0.0</td>\n",
       "    </tr>\n",
       "  </tbody>\n",
       "</table>\n",
       "</div>"
      ],
      "text/plain": [
       "             Name of State / UT  Total Confirmed cases*  \\\n",
       "0   Andaman and Nicobar Islands                      33   \n",
       "22                      Mizoram                       1   \n",
       "\n",
       "    Cured/Discharged/Migrated  Deaths**  Active Cases  Mortality Rate  \n",
       "0                          33         0             0             0.0  \n",
       "22                          1         0             0             0.0  "
      ]
     },
     "execution_count": 35,
     "metadata": {},
     "output_type": "execute_result"
    }
   ],
   "source": [
    "covid_state_data[covid_state_data['Active Cases']==covid_state_data['Active Cases'].min()]"
   ]
  },
  {
   "cell_type": "markdown",
   "metadata": {},
   "source": [
    "### Top 5 States having most Active Cases in India"
   ]
  },
  {
   "cell_type": "code",
   "execution_count": 36,
   "metadata": {},
   "outputs": [
    {
     "data": {
      "text/html": [
       "<div>\n",
       "<style scoped>\n",
       "    .dataframe tbody tr th:only-of-type {\n",
       "        vertical-align: middle;\n",
       "    }\n",
       "\n",
       "    .dataframe tbody tr th {\n",
       "        vertical-align: top;\n",
       "    }\n",
       "\n",
       "    .dataframe thead th {\n",
       "        text-align: right;\n",
       "    }\n",
       "</style>\n",
       "<table border=\"1\" class=\"dataframe\">\n",
       "  <thead>\n",
       "    <tr style=\"text-align: right;\">\n",
       "      <th></th>\n",
       "      <th>Name of State / UT</th>\n",
       "      <th>Total Confirmed cases*</th>\n",
       "      <th>Cured/Discharged/Migrated</th>\n",
       "      <th>Deaths**</th>\n",
       "      <th>Active Cases</th>\n",
       "      <th>Mortality Rate</th>\n",
       "    </tr>\n",
       "  </thead>\n",
       "  <tbody>\n",
       "    <tr>\n",
       "      <th>19</th>\n",
       "      <td>Maharashtra</td>\n",
       "      <td>52667</td>\n",
       "      <td>15786</td>\n",
       "      <td>1695</td>\n",
       "      <td>36881</td>\n",
       "      <td>3.218334</td>\n",
       "    </tr>\n",
       "    <tr>\n",
       "      <th>29</th>\n",
       "      <td>Tamil Nadu</td>\n",
       "      <td>17082</td>\n",
       "      <td>8731</td>\n",
       "      <td>118</td>\n",
       "      <td>8351</td>\n",
       "      <td>0.690786</td>\n",
       "    </tr>\n",
       "    <tr>\n",
       "      <th>10</th>\n",
       "      <td>Gujarat</td>\n",
       "      <td>14460</td>\n",
       "      <td>6636</td>\n",
       "      <td>888</td>\n",
       "      <td>7824</td>\n",
       "      <td>6.141079</td>\n",
       "    </tr>\n",
       "    <tr>\n",
       "      <th>8</th>\n",
       "      <td>Delhi</td>\n",
       "      <td>14053</td>\n",
       "      <td>6771</td>\n",
       "      <td>276</td>\n",
       "      <td>7282</td>\n",
       "      <td>1.963993</td>\n",
       "    </tr>\n",
       "    <tr>\n",
       "      <th>27</th>\n",
       "      <td>Rajasthan</td>\n",
       "      <td>7300</td>\n",
       "      <td>3951</td>\n",
       "      <td>167</td>\n",
       "      <td>3349</td>\n",
       "      <td>2.287671</td>\n",
       "    </tr>\n",
       "  </tbody>\n",
       "</table>\n",
       "</div>"
      ],
      "text/plain": [
       "   Name of State / UT  Total Confirmed cases*  Cured/Discharged/Migrated  \\\n",
       "19        Maharashtra                   52667                      15786   \n",
       "29         Tamil Nadu                   17082                       8731   \n",
       "10            Gujarat                   14460                       6636   \n",
       "8               Delhi                   14053                       6771   \n",
       "27          Rajasthan                    7300                       3951   \n",
       "\n",
       "    Deaths**  Active Cases  Mortality Rate  \n",
       "19      1695         36881        3.218334  \n",
       "29       118          8351        0.690786  \n",
       "10       888          7824        6.141079  \n",
       "8        276          7282        1.963993  \n",
       "27       167          3349        2.287671  "
      ]
     },
     "execution_count": 36,
     "metadata": {},
     "output_type": "execute_result"
    }
   ],
   "source": [
    "# Top 5\n",
    "sorted_total_active= covid_state_data.sort_values(by=['Active Cases'], ascending=False)\n",
    "sorted_total_active.head()"
   ]
  },
  {
   "cell_type": "code",
   "execution_count": 37,
   "metadata": {},
   "outputs": [
    {
     "data": {
      "image/png": "[encoded data removed]",
      "text/plain": [
       "<Figure size 720x864 with 1 Axes>"
      ]
     },
     "metadata": {},
     "output_type": "display_data"
    }
   ],
   "source": [
    "plt.figure(figsize=(10,12))\n",
    "sns.set_style('whitegrid')\n",
    "sns.barplot(x='Active Cases', y='Name of State / UT', data= sorted_total_active, palette='coolwarm')\n",
    "plt.title('Active Cases')\n",
    "plt.tight_layout()"
   ]
  },
  {
   "cell_type": "markdown",
   "metadata": {},
   "source": [
    "### Highest Mortality Rate in India"
   ]
  },
  {
   "cell_type": "code",
   "execution_count": 38,
   "metadata": {
    "scrolled": false
   },
   "outputs": [
    {
     "data": {
      "text/html": [
       "<div>\n",
       "<style scoped>\n",
       "    .dataframe tbody tr th:only-of-type {\n",
       "        vertical-align: middle;\n",
       "    }\n",
       "\n",
       "    .dataframe tbody tr th {\n",
       "        vertical-align: top;\n",
       "    }\n",
       "\n",
       "    .dataframe thead th {\n",
       "        text-align: right;\n",
       "    }\n",
       "</style>\n",
       "<table border=\"1\" class=\"dataframe\">\n",
       "  <thead>\n",
       "    <tr style=\"text-align: right;\">\n",
       "      <th></th>\n",
       "      <th>Name of State / UT</th>\n",
       "      <th>Total Confirmed cases*</th>\n",
       "      <th>Cured/Discharged/Migrated</th>\n",
       "      <th>Deaths**</th>\n",
       "      <th>Active Cases</th>\n",
       "      <th>Mortality Rate</th>\n",
       "    </tr>\n",
       "  </thead>\n",
       "  <tbody>\n",
       "    <tr>\n",
       "      <th>34</th>\n",
       "      <td>West Bengal</td>\n",
       "      <td>3816</td>\n",
       "      <td>1414</td>\n",
       "      <td>278</td>\n",
       "      <td>2402</td>\n",
       "      <td>7.285115</td>\n",
       "    </tr>\n",
       "  </tbody>\n",
       "</table>\n",
       "</div>"
      ],
      "text/plain": [
       "   Name of State / UT  Total Confirmed cases*  Cured/Discharged/Migrated  \\\n",
       "34        West Bengal                    3816                       1414   \n",
       "\n",
       "    Deaths**  Active Cases  Mortality Rate  \n",
       "34       278          2402        7.285115  "
      ]
     },
     "execution_count": 38,
     "metadata": {},
     "output_type": "execute_result"
    }
   ],
   "source": [
    "covid_state_data[covid_state_data['Mortality Rate']==covid_state_data['Mortality Rate'].max()]"
   ]
  },
  {
   "cell_type": "markdown",
   "metadata": {},
   "source": [
    "### Lowest Mortality Rate in India"
   ]
  },
  {
   "cell_type": "code",
   "execution_count": 39,
   "metadata": {},
   "outputs": [
    {
     "data": {
      "text/html": [
       "<div>\n",
       "<style scoped>\n",
       "    .dataframe tbody tr th:only-of-type {\n",
       "        vertical-align: middle;\n",
       "    }\n",
       "\n",
       "    .dataframe tbody tr th {\n",
       "        vertical-align: top;\n",
       "    }\n",
       "\n",
       "    .dataframe thead th {\n",
       "        text-align: right;\n",
       "    }\n",
       "</style>\n",
       "<table border=\"1\" class=\"dataframe\">\n",
       "  <thead>\n",
       "    <tr style=\"text-align: right;\">\n",
       "      <th></th>\n",
       "      <th>Name of State / UT</th>\n",
       "      <th>Total Confirmed cases*</th>\n",
       "      <th>Cured/Discharged/Migrated</th>\n",
       "      <th>Deaths**</th>\n",
       "      <th>Active Cases</th>\n",
       "      <th>Mortality Rate</th>\n",
       "    </tr>\n",
       "  </thead>\n",
       "  <tbody>\n",
       "    <tr>\n",
       "      <th>0</th>\n",
       "      <td>Andaman and Nicobar Islands</td>\n",
       "      <td>33</td>\n",
       "      <td>33</td>\n",
       "      <td>0</td>\n",
       "      <td>0</td>\n",
       "      <td>0.0</td>\n",
       "    </tr>\n",
       "    <tr>\n",
       "      <th>2</th>\n",
       "      <td>Arunachal Pradesh</td>\n",
       "      <td>2</td>\n",
       "      <td>1</td>\n",
       "      <td>0</td>\n",
       "      <td>1</td>\n",
       "      <td>0.0</td>\n",
       "    </tr>\n",
       "    <tr>\n",
       "      <th>6</th>\n",
       "      <td>Chhattisgarh</td>\n",
       "      <td>291</td>\n",
       "      <td>72</td>\n",
       "      <td>0</td>\n",
       "      <td>219</td>\n",
       "      <td>0.0</td>\n",
       "    </tr>\n",
       "    <tr>\n",
       "      <th>7</th>\n",
       "      <td>Dadar Nagar Haveli</td>\n",
       "      <td>2</td>\n",
       "      <td>0</td>\n",
       "      <td>0</td>\n",
       "      <td>2</td>\n",
       "      <td>0.0</td>\n",
       "    </tr>\n",
       "    <tr>\n",
       "      <th>9</th>\n",
       "      <td>Goa</td>\n",
       "      <td>67</td>\n",
       "      <td>19</td>\n",
       "      <td>0</td>\n",
       "      <td>48</td>\n",
       "      <td>0.0</td>\n",
       "    </tr>\n",
       "    <tr>\n",
       "      <th>17</th>\n",
       "      <td>Ladakh</td>\n",
       "      <td>52</td>\n",
       "      <td>43</td>\n",
       "      <td>0</td>\n",
       "      <td>9</td>\n",
       "      <td>0.0</td>\n",
       "    </tr>\n",
       "    <tr>\n",
       "      <th>20</th>\n",
       "      <td>Manipur</td>\n",
       "      <td>39</td>\n",
       "      <td>4</td>\n",
       "      <td>0</td>\n",
       "      <td>35</td>\n",
       "      <td>0.0</td>\n",
       "    </tr>\n",
       "    <tr>\n",
       "      <th>22</th>\n",
       "      <td>Mizoram</td>\n",
       "      <td>1</td>\n",
       "      <td>1</td>\n",
       "      <td>0</td>\n",
       "      <td>0</td>\n",
       "      <td>0.0</td>\n",
       "    </tr>\n",
       "    <tr>\n",
       "      <th>23</th>\n",
       "      <td>Nagaland</td>\n",
       "      <td>3</td>\n",
       "      <td>0</td>\n",
       "      <td>0</td>\n",
       "      <td>3</td>\n",
       "      <td>0.0</td>\n",
       "    </tr>\n",
       "    <tr>\n",
       "      <th>25</th>\n",
       "      <td>Puducherry</td>\n",
       "      <td>41</td>\n",
       "      <td>12</td>\n",
       "      <td>0</td>\n",
       "      <td>29</td>\n",
       "      <td>0.0</td>\n",
       "    </tr>\n",
       "    <tr>\n",
       "      <th>28</th>\n",
       "      <td>Sikkim</td>\n",
       "      <td>1</td>\n",
       "      <td>0</td>\n",
       "      <td>0</td>\n",
       "      <td>1</td>\n",
       "      <td>0.0</td>\n",
       "    </tr>\n",
       "    <tr>\n",
       "      <th>31</th>\n",
       "      <td>Tripura</td>\n",
       "      <td>194</td>\n",
       "      <td>165</td>\n",
       "      <td>0</td>\n",
       "      <td>29</td>\n",
       "      <td>0.0</td>\n",
       "    </tr>\n",
       "    <tr>\n",
       "      <th>35</th>\n",
       "      <td>Cases being reassigned to states</td>\n",
       "      <td>2970</td>\n",
       "      <td>0</td>\n",
       "      <td>0</td>\n",
       "      <td>2970</td>\n",
       "      <td>0.0</td>\n",
       "    </tr>\n",
       "  </tbody>\n",
       "</table>\n",
       "</div>"
      ],
      "text/plain": [
       "                  Name of State / UT  Total Confirmed cases*  \\\n",
       "0        Andaman and Nicobar Islands                      33   \n",
       "2                  Arunachal Pradesh                       2   \n",
       "6                       Chhattisgarh                     291   \n",
       "7                 Dadar Nagar Haveli                       2   \n",
       "9                                Goa                      67   \n",
       "17                            Ladakh                      52   \n",
       "20                           Manipur                      39   \n",
       "22                           Mizoram                       1   \n",
       "23                          Nagaland                       3   \n",
       "25                        Puducherry                      41   \n",
       "28                            Sikkim                       1   \n",
       "31                           Tripura                     194   \n",
       "35  Cases being reassigned to states                    2970   \n",
       "\n",
       "    Cured/Discharged/Migrated  Deaths**  Active Cases  Mortality Rate  \n",
       "0                          33         0             0             0.0  \n",
       "2                           1         0             1             0.0  \n",
       "6                          72         0           219             0.0  \n",
       "7                           0         0             2             0.0  \n",
       "9                          19         0            48             0.0  \n",
       "17                         43         0             9             0.0  \n",
       "20                          4         0            35             0.0  \n",
       "22                          1         0             0             0.0  \n",
       "23                          0         0             3             0.0  \n",
       "25                         12         0            29             0.0  \n",
       "28                          0         0             1             0.0  \n",
       "31                        165         0            29             0.0  \n",
       "35                          0         0          2970             0.0  "
      ]
     },
     "execution_count": 39,
     "metadata": {},
     "output_type": "execute_result"
    }
   ],
   "source": [
    "covid_state_data[covid_state_data['Mortality Rate']==covid_state_data['Mortality Rate'].min()]"
   ]
  },
  {
   "cell_type": "markdown",
   "metadata": {},
   "source": [
    "### Top 5 States having high Mortality Rate in India"
   ]
  },
  {
   "cell_type": "code",
   "execution_count": 40,
   "metadata": {
    "scrolled": true
   },
   "outputs": [
    {
     "data": {
      "text/html": [
       "<div>\n",
       "<style scoped>\n",
       "    .dataframe tbody tr th:only-of-type {\n",
       "        vertical-align: middle;\n",
       "    }\n",
       "\n",
       "    .dataframe tbody tr th {\n",
       "        vertical-align: top;\n",
       "    }\n",
       "\n",
       "    .dataframe thead th {\n",
       "        text-align: right;\n",
       "    }\n",
       "</style>\n",
       "<table border=\"1\" class=\"dataframe\">\n",
       "  <thead>\n",
       "    <tr style=\"text-align: right;\">\n",
       "      <th></th>\n",
       "      <th>Name of State / UT</th>\n",
       "      <th>Total Confirmed cases*</th>\n",
       "      <th>Cured/Discharged/Migrated</th>\n",
       "      <th>Deaths**</th>\n",
       "      <th>Active Cases</th>\n",
       "      <th>Mortality Rate</th>\n",
       "    </tr>\n",
       "  </thead>\n",
       "  <tbody>\n",
       "    <tr>\n",
       "      <th>34</th>\n",
       "      <td>West Bengal</td>\n",
       "      <td>3816</td>\n",
       "      <td>1414</td>\n",
       "      <td>278</td>\n",
       "      <td>2402</td>\n",
       "      <td>7.285115</td>\n",
       "    </tr>\n",
       "    <tr>\n",
       "      <th>21</th>\n",
       "      <td>Meghalaya</td>\n",
       "      <td>14</td>\n",
       "      <td>12</td>\n",
       "      <td>1</td>\n",
       "      <td>2</td>\n",
       "      <td>7.142857</td>\n",
       "    </tr>\n",
       "    <tr>\n",
       "      <th>10</th>\n",
       "      <td>Gujarat</td>\n",
       "      <td>14460</td>\n",
       "      <td>6636</td>\n",
       "      <td>888</td>\n",
       "      <td>7824</td>\n",
       "      <td>6.141079</td>\n",
       "    </tr>\n",
       "    <tr>\n",
       "      <th>18</th>\n",
       "      <td>Madhya Pradesh</td>\n",
       "      <td>6859</td>\n",
       "      <td>3571</td>\n",
       "      <td>300</td>\n",
       "      <td>3288</td>\n",
       "      <td>4.373815</td>\n",
       "    </tr>\n",
       "    <tr>\n",
       "      <th>19</th>\n",
       "      <td>Maharashtra</td>\n",
       "      <td>52667</td>\n",
       "      <td>15786</td>\n",
       "      <td>1695</td>\n",
       "      <td>36881</td>\n",
       "      <td>3.218334</td>\n",
       "    </tr>\n",
       "  </tbody>\n",
       "</table>\n",
       "</div>"
      ],
      "text/plain": [
       "   Name of State / UT  Total Confirmed cases*  Cured/Discharged/Migrated  \\\n",
       "34        West Bengal                    3816                       1414   \n",
       "21          Meghalaya                      14                         12   \n",
       "10            Gujarat                   14460                       6636   \n",
       "18     Madhya Pradesh                    6859                       3571   \n",
       "19        Maharashtra                   52667                      15786   \n",
       "\n",
       "    Deaths**  Active Cases  Mortality Rate  \n",
       "34       278          2402        7.285115  \n",
       "21         1             2        7.142857  \n",
       "10       888          7824        6.141079  \n",
       "18       300          3288        4.373815  \n",
       "19      1695         36881        3.218334  "
      ]
     },
     "execution_count": 40,
     "metadata": {},
     "output_type": "execute_result"
    }
   ],
   "source": [
    "# Top 5\n",
    "sorted_total_mort= covid_state_data.sort_values(by=['Mortality Rate'], ascending=False)\n",
    "sorted_total_mort.head()"
   ]
  },
  {
   "cell_type": "code",
   "execution_count": 41,
   "metadata": {},
   "outputs": [
    {
     "data": {
      "image/png": "[encoded data removed]",
      "text/plain": [
       "<Figure size 720x864 with 1 Axes>"
      ]
     },
     "metadata": {},
     "output_type": "display_data"
    }
   ],
   "source": [
    "plt.figure(figsize=(10,12))\n",
    "sns.set_style('whitegrid')\n",
    "sns.barplot(x='Mortality Rate', y='Name of State / UT', data= sorted_total_mort, palette='coolwarm')\n",
    "plt.title('Mortality Rate')\n",
    "plt.tight_layout()"
   ]
  },
  {
   "cell_type": "markdown",
   "metadata": {},
   "source": [
    "### Correlation Data"
   ]
  },
  {
   "cell_type": "code",
   "execution_count": 42,
   "metadata": {},
   "outputs": [
    {
     "data": {
      "text/html": [
       "<div>\n",
       "<style scoped>\n",
       "    .dataframe tbody tr th:only-of-type {\n",
       "        vertical-align: middle;\n",
       "    }\n",
       "\n",
       "    .dataframe tbody tr th {\n",
       "        vertical-align: top;\n",
       "    }\n",
       "\n",
       "    .dataframe thead th {\n",
       "        text-align: right;\n",
       "    }\n",
       "</style>\n",
       "<table border=\"1\" class=\"dataframe\">\n",
       "  <thead>\n",
       "    <tr style=\"text-align: right;\">\n",
       "      <th></th>\n",
       "      <th>Total Confirmed cases*</th>\n",
       "      <th>Cured/Discharged/Migrated</th>\n",
       "      <th>Deaths**</th>\n",
       "      <th>Active Cases</th>\n",
       "      <th>Mortality Rate</th>\n",
       "    </tr>\n",
       "  </thead>\n",
       "  <tbody>\n",
       "    <tr>\n",
       "      <th>Total Confirmed cases*</th>\n",
       "      <td>1.000000</td>\n",
       "      <td>0.964441</td>\n",
       "      <td>0.934119</td>\n",
       "      <td>0.990761</td>\n",
       "      <td>0.300563</td>\n",
       "    </tr>\n",
       "    <tr>\n",
       "      <th>Cured/Discharged/Migrated</th>\n",
       "      <td>0.964441</td>\n",
       "      <td>1.000000</td>\n",
       "      <td>0.879287</td>\n",
       "      <td>0.919688</td>\n",
       "      <td>0.349926</td>\n",
       "    </tr>\n",
       "    <tr>\n",
       "      <th>Deaths**</th>\n",
       "      <td>0.934119</td>\n",
       "      <td>0.879287</td>\n",
       "      <td>1.000000</td>\n",
       "      <td>0.936581</td>\n",
       "      <td>0.449869</td>\n",
       "    </tr>\n",
       "    <tr>\n",
       "      <th>Active Cases</th>\n",
       "      <td>0.990761</td>\n",
       "      <td>0.919688</td>\n",
       "      <td>0.936581</td>\n",
       "      <td>1.000000</td>\n",
       "      <td>0.266973</td>\n",
       "    </tr>\n",
       "    <tr>\n",
       "      <th>Mortality Rate</th>\n",
       "      <td>0.300563</td>\n",
       "      <td>0.349926</td>\n",
       "      <td>0.449869</td>\n",
       "      <td>0.266973</td>\n",
       "      <td>1.000000</td>\n",
       "    </tr>\n",
       "  </tbody>\n",
       "</table>\n",
       "</div>"
      ],
      "text/plain": [
       "                           Total Confirmed cases*  Cured/Discharged/Migrated  \\\n",
       "Total Confirmed cases*                   1.000000                   0.964441   \n",
       "Cured/Discharged/Migrated                0.964441                   1.000000   \n",
       "Deaths**                                 0.934119                   0.879287   \n",
       "Active Cases                             0.990761                   0.919688   \n",
       "Mortality Rate                           0.300563                   0.349926   \n",
       "\n",
       "                           Deaths**  Active Cases  Mortality Rate  \n",
       "Total Confirmed cases*     0.934119      0.990761        0.300563  \n",
       "Cured/Discharged/Migrated  0.879287      0.919688        0.349926  \n",
       "Deaths**                   1.000000      0.936581        0.449869  \n",
       "Active Cases               0.936581      1.000000        0.266973  \n",
       "Mortality Rate             0.449869      0.266973        1.000000  "
      ]
     },
     "execution_count": 42,
     "metadata": {},
     "output_type": "execute_result"
    }
   ],
   "source": [
    "covid_cor= covid_state_data.corr()\n",
    "covid_cor"
   ]
  },
  {
   "cell_type": "code",
   "execution_count": 43,
   "metadata": {
    "scrolled": true
   },
   "outputs": [
    {
     "data": {
      "text/plain": [
       "<matplotlib.axes._subplots.AxesSubplot at 0x2ade41d8448>"
      ]
     },
     "execution_count": 43,
     "metadata": {},
     "output_type": "execute_result"
    },
    {
     "data": {
      "image/png": "[encoded data removed]",
      "text/plain": [
       "<Figure size 720x720 with 2 Axes>"
      ]
     },
     "metadata": {},
     "output_type": "display_data"
    }
   ],
   "source": [
    "plt.figure(figsize=(10,10))\n",
    "sns.heatmap(covid_cor, cmap='viridis', annot=True)"
   ]
  },
  {
   "cell_type": "code",
   "execution_count": 44,
   "metadata": {},
   "outputs": [
    {
     "data": {
      "text/plain": [
       "<seaborn.matrix.ClusterGrid at 0x2ade49d5108>"
      ]
     },
     "execution_count": 44,
     "metadata": {},
     "output_type": "execute_result"
    },
    {
     "data": {
      "text/plain": [
       "<Figure size 720x720 with 0 Axes>"
      ]
     },
     "metadata": {},
     "output_type": "display_data"
    },
    {
     "data": {
      "image/png": "[encoded data removed]",
      "text/plain": [
       "<Figure size 720x720 with 4 Axes>"
      ]
     },
     "metadata": {},
     "output_type": "display_data"
    }
   ],
   "source": [
    "plt.figure(figsize=(10,10))\n",
    "sns.clustermap(covid_cor, cmap='viridis', annot=True)"
   ]
  }
 ],
 "metadata": {
  "kernelspec": {
   "display_name": "Python 3",
   "language": "python",
   "name": "python3"
  },
  "language_info": {
   "codemirror_mode": {
    "name": "ipython",
    "version": 3
   },
   "file_extension": ".py",
   "mimetype": "text/x-python",
   "name": "python",
   "nbconvert_exporter": "python",
   "pygments_lexer": "ipython3",
   "version": "3.7.4"
  }
 },
 "nbformat": 4,
 "nbformat_minor": 4
}
